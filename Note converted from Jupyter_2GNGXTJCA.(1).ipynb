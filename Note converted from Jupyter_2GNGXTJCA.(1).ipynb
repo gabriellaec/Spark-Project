﻿{
  "metadata": {
    "name": "Note converted from Jupyter_2GNGXTJCA",
    "kernelspec": {
      "language": "scala",
      "name": "spark2-scala"
    },
    "language_info": {
      "codemirror_mode": "text/x-scala",
      "file_extension": ".scala",
      "mimetype": "text/x-scala",
      "name": "scala",
      "pygments_lexer": "scala"
    }
  },
  "nbformat": 4,
  "nbformat_minor": 2,
  "cells": [
    {
      "cell_type": "code",
      "execution_count": 0,
      "metadata": {
        "autoscroll": "auto"
      },
      "outputs": [],
      "source": "sc"
    },
    {
      "cell_type": "code",
      "execution_count": 1,
      "metadata": {
        "autoscroll": "auto"
      },
      "outputs": [],
      "source": "%pyspark \nrdd \u003d sc.textFile(\u0027s3://megadados-alunos/dados/all_reviews_clean_tsv/\u0027).cache()"
    },
    {
      "cell_type": "code",
      "execution_count": 2,
      "metadata": {
        "autoscroll": "auto"
      },
      "outputs": [],
      "source": "%pyspark\nrdd.take(1)\n\nheader \u003d rdd.first()\ntemp_var \u003d rdd.map(lambda k: k.split(\"\\t\"))\nlog_df\u003dtemp_var.toDF(header.split(\"\\t\"))\nlog_df.show()"
    },
    {
      "cell_type": "code",
      "execution_count": 3,
      "metadata": {
        "autoscroll": "auto"
      },
      "outputs": [],
      "source": "%pyspark \nrdd.count()"
    },
    {
      "cell_type": "code",
      "execution_count": 4,
      "metadata": {
        "autoscroll": "auto"
      },
      "outputs": [],
      "source": "%pyspark \nrdd_clientes \u003d rdd.map(lambda x: x.split(\u0027\\t\u0027)) \\\n                    .map(lambda x: (x[1],1)) \\\n                    .reduceByKey(lambda x, y: x+y) \\\n                    .cache()"
    },
    {
      "cell_type": "code",
      "execution_count": 5,
      "metadata": {
        "autoscroll": "auto"
      },
      "outputs": [],
      "source": "%pyspark \nrdd_clientes.count()"
    },
    {
      "cell_type": "code",
      "execution_count": 6,
      "metadata": {
        "autoscroll": "auto"
      },
      "outputs": [],
      "source": "%pyspark\nrdd_produtos \u003d rdd.map(lambda x: x.split(\u0027\\t\u0027)) \\\n                    .map(lambda x: (x[5],1)) \\\n                    .reduceByKey(lambda x, y: x+y) \\\n                    .cache()"
    },
    {
      "cell_type": "code",
      "execution_count": 7,
      "metadata": {
        "autoscroll": "auto"
      },
      "outputs": [],
      "source": "%pyspark\nrdd_produtos.count()"
    },
    {
      "cell_type": "code",
      "execution_count": 8,
      "metadata": {
        "autoscroll": "auto"
      },
      "outputs": [],
      "source": "%pyspark \nrdd_clientes.takeOrdered(5, lambda x: -x[1])"
    },
    {
      "cell_type": "code",
      "execution_count": 9,
      "metadata": {
        "autoscroll": "auto"
      },
      "outputs": [],
      "source": "%pyspark\nrdd_stars \u003d rdd.map(lambda x: x.split(\u0027\\t\u0027)) \\\n                    .map(lambda x: (x[7],1)) \\\n                    .reduceByKey(lambda x, y: x+y) \\\n                    .cache()"
    },
    {
      "cell_type": "code",
      "execution_count": 10,
      "metadata": {
        "autoscroll": "auto"
      },
      "outputs": [],
      "source": "%pyspark\nrdd_stars.takeOrdered(5)"
    },
    {
      "cell_type": "code",
      "execution_count": 11,
      "metadata": {
        "autoscroll": "auto"
      },
      "outputs": [],
      "source": "%pyspark\nrdd_produtos_rating \u003d rdd.map(lambda x: x.split(\u0027\\t\u0027)) \\\n                    .map(lambda x: (x[5],int(x[7]))) \\\n                    .reduceByKey(lambda x, y: x+y) \\\n                    .reduceByKey(lambda x, y: y+y) \\\n                    .cache()\n                    \nrdd_produtos_rating.take(5)"
    },
    {
      "cell_type": "code",
      "execution_count": 12,
      "metadata": {
        "autoscroll": "auto"
      },
      "outputs": [],
      "source": "%pyspark\n%pyspark\nrdd_produtos_id_rating \u003d rdd.map(lambda x: x.split(\u0027\\t\u0027)) \\\n                    .map(lambda x: (x[5],int(x[7]))) \\\n                    .reduceByKey(lambda x, y: x+y) \\\n                    .reduceByKey(lambda x, y: y+y) \\\n                    .cache()"
    },
    {
      "cell_type": "code",
      "execution_count": 13,
      "metadata": {
        "autoscroll": "auto"
      },
      "outputs": [],
      "source": "%pyspark\nrdd_review_cliente \u003d rdd_clientes_1_review.join(rdd_produtos_filtered)"
    },
    {
      "cell_type": "code",
      "execution_count": 14,
      "metadata": {
        "autoscroll": "auto"
      },
      "outputs": [],
      "source": "%pyspark\nrdd_produtos.take(5)"
    },
    {
      "cell_type": "code",
      "execution_count": 15,
      "metadata": {
        "autoscroll": "auto"
      },
      "outputs": [],
      "source": "%pyspark\nrdd_produtos_filtered  \u003d rdd_produtos.filter(lambda x: (x[1]\u003e10))\nrdd_produtos_filtered.take(5)"
    },
    {
      "cell_type": "code",
      "execution_count": 16,
      "metadata": {
        "autoscroll": "auto"
      },
      "outputs": [],
      "source": "%pyspark\nrdd_produtos_tudo \u003d rdd_produtos_rating.join(rdd_produtos_filtered)\nrdd_produtos_tudo.take(5)"
    },
    {
      "cell_type": "code",
      "execution_count": 17,
      "metadata": {
        "autoscroll": "auto"
      },
      "outputs": [],
      "source": "%pyspark\nrdd_produtos \u003d rdd.map(lambda x: x.split(\u0027\\t\u0027)) \\\n                    .map(lambda x: (x[5],int(x[7]))) \\\n                    .reduceByKey(lambda x, y: x+y) \\\n                    .reduceByKey(lambda x, y: y+y) \\\n                    .cache()"
    },
    {
      "cell_type": "code",
      "execution_count": 18,
      "metadata": {
        "autoscroll": "auto"
      },
      "outputs": [],
      "source": "%pyspark\nhist \u003d rdd_clientes.map(lambda x: x[1]).histogram()\nlen(hist)"
    },
    {
      "cell_type": "code",
      "execution_count": 19,
      "metadata": {
        "autoscroll": "auto"
      },
      "outputs": [],
      "source": "%pyspark\nhist[0]"
    },
    {
      "cell_type": "code",
      "execution_count": 20,
      "metadata": {
        "autoscroll": "auto"
      },
      "outputs": [],
      "source": "%pyspark\nhist[1]"
    },
    {
      "cell_type": "code",
      "execution_count": 21,
      "metadata": {
        "autoscroll": "auto"
      },
      "outputs": [],
      "source": "%python\n\n\nfrom matplotlib import pyplot as plt\n// bins, counts \u003d rdd_clientes.map(lambda x: x[1]).histogram(100)\n\n// plt.hist(bins[:-1], bins\u003dbins, weights\u003dcounts)"
    },
    {
      "cell_type": "code",
      "execution_count": 22,
      "metadata": {
        "autoscroll": "auto"
      },
      "outputs": [],
      "source": "\n%pyspark\nbots  \u003d rdd_clientes.filter(lambda x: (x[1]\u003ehist[0][1]))"
    },
    {
      "cell_type": "code",
      "execution_count": 23,
      "metadata": {
        "autoscroll": "auto"
      },
      "outputs": [],
      "source": "%pyspark\nbots.count()"
    },
    {
      "cell_type": "code",
      "execution_count": 24,
      "metadata": {
        "autoscroll": "auto"
      },
      "outputs": [],
      "source": "%pyspark\nrdd_bots \u003d bots.join(rdd)"
    },
    {
      "cell_type": "code",
      "execution_count": 25,
      "metadata": {
        "autoscroll": "auto"
      },
      "outputs": [],
      "source": "%pyspark\nrdd_bots \u003d bots.join(rdd)"
    },
    {
      "cell_type": "code",
      "execution_count": 26,
      "metadata": {
        "autoscroll": "auto"
      },
      "outputs": [],
      "source": "%pyspark\nrdd_bots.collect()"
    },
    {
      "cell_type": "code",
      "execution_count": 27,
      "metadata": {
        "autoscroll": "auto"
      },
      "outputs": [],
      "source": "%pyspark\nbots[0]"
    },
    {
      "cell_type": "code",
      "execution_count": 28,
      "metadata": {
        "autoscroll": "auto"
      },
      "outputs": [],
      "source": "%pyspark\n# Import the required packages\nfrom pyspark.ml.feature import CountVectorizer\nfrom pyspark.ml.feature import Tokenizer, RegexTokenizer\nfrom pyspark.ml.feature import StringIndexer\nfrom pyspark.ml.feature import VectorAssembler\nfrom pyspark.ml.classification import NaiveBayes\nfrom pyspark.ml.evaluation import BinaryClassificationEvaluator\n\n\n\nstages \u003d []\n# 1. clean data and tokenize sentences using RegexTokenizer\nregexTokenizer \u003d RegexTokenizer(inputCol\u003d\"sms\", outputCol\u003d\"tokens\", pattern\u003d\"\\\\W+\")\nstages +\u003d [regexTokenizer]\n\n# 2. CountVectorize the data\ncv \u003d CountVectorizer(inputCol\u003d\"tokens\", outputCol\u003d\"token_features\", minDF\u003d2.0)#, vocabSize\u003d3, minDF\u003d2.0\nstages +\u003d [cv]\n\n# 3. Convert the labels to numerical values using binariser\nindexer \u003d StringIndexer(inputCol\u003d\"label_string\", outputCol\u003d\"label\")\nstages +\u003d [indexer]\n\n# 4. Vectorise features using vectorassembler\nvecAssembler \u003d VectorAssembler(inputCols\u003d[\u0027token_features\u0027], outputCol\u003d\"features\")\nstages +\u003d [vecAssembler]\n\n[print(\u0027\\n\u0027, stage) for stage in stages]\n\n\n\nfrom pyspark.ml import Pipeline\npipeline \u003d Pipeline(stages\u003dstages)\ndata \u003d pipeline.fit(df).transform(df)\n\n\ntrain, test \u003d data.randomSplit([0.7, 0.3], seed \u003d 2018)\n\n\nnb \u003d NaiveBayes(smoothing\u003d1.0, modelType\u003d\"multinomial\")# Fit the model\nmodel \u003d nb.fit(train)# Make predictions on test data\npredictions \u003d model.transform(test)\npredictions.select(\"label\", \"prediction\", \"probability\").show()\n\n\nevaluator \u003d BinaryClassificationEvaluator(rawPredictionCol\u003d\"prediction\")\naccuracy \u003d evaluator.evaluate(predictions)\nprint (\"Model Accuracy: \", accuracy)"
    }
  ]
}